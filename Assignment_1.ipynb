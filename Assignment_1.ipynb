{
 "cells": [
  {
   "cell_type": "code",
   "execution_count": null,
   "id": "2304b022",
   "metadata": {},
   "outputs": [],
   "source": [
    "1. In the below elements which of them are values or an expression? eg:- values can be\n",
    "integer or string and expressions will be mathematical operators.\n",
    "\n",
    "Ans: Interger- 6\n",
    "     String - 'hello'\n",
    "     floating value- -87.8\n",
    "     Operators- *, /, -,+\n",
    "\n"
   ]
  },
  {
   "cell_type": "code",
   "execution_count": null,
   "id": "30598ea0",
   "metadata": {},
   "outputs": [],
   "source": [
    "2. What is the difference between string and variable?\n",
    "\n",
    "Ans: String is just words and variable which contains some value"
   ]
  },
  {
   "cell_type": "code",
   "execution_count": null,
   "id": "b503fe2d",
   "metadata": {},
   "outputs": [],
   "source": [
    "3. Describe three different data types.\n",
    "\n",
    "Ans: Data type as follow,\n",
    "    1. String\n",
    "    2. tuple\n",
    "    3. list\n",
    "    4. Dictionary\n",
    "    5. Bool\n",
    "    6. Integer\n",
    "    7. Floating\n",
    "    8. set\n",
    "    "
   ]
  },
  {
   "cell_type": "code",
   "execution_count": null,
   "id": "96ed0227",
   "metadata": {},
   "outputs": [],
   "source": [
    "4. What is an expression made up of? What do all expressions do?\n",
    "\n",
    "Ans: An expression made up of value, container and mathematical operator. Expression is use to get result for container."
   ]
  },
  {
   "cell_type": "code",
   "execution_count": null,
   "id": "ce0169a2",
   "metadata": {},
   "outputs": [],
   "source": [
    "5. This assignment statements, like spam = 10. What is the difference between an\n",
    "expression and a statement?\n",
    "\n",
    "Ans: In statements result is not expected as result expected in expression. Before writing a code statement to be provided to get result for expression.\n"
   ]
  },
  {
   "cell_type": "code",
   "execution_count": null,
   "id": "6fb7aeda",
   "metadata": {},
   "outputs": [],
   "source": [
    "6. After running the following code, what does the variable bacon contain?\n",
    "\n",
    "Ans: 23"
   ]
  },
  {
   "cell_type": "code",
   "execution_count": 1,
   "id": "69150dc4",
   "metadata": {},
   "outputs": [],
   "source": [
    "7. What should the values of the following two terms be?\n",
    "\n",
    "Ans: value for 'spam'+'spamspam' and 'spam*3' will same value as there is addition and multification operation will \n",
    "    "
   ]
  },
  {
   "cell_type": "code",
   "execution_count": null,
   "id": "73ace953",
   "metadata": {},
   "outputs": [],
   "source": [
    "8. Why is eggs a valid variable name while 100 is invalid?\n",
    "\n",
    "Ans: eggs is string data type and 100 is a integer data type. Variable can not be interger as variable use to store the expression, statement"
   ]
  },
  {
   "cell_type": "code",
   "execution_count": null,
   "id": "8660edf5",
   "metadata": {},
   "outputs": [],
   "source": [
    "9. What three functions can be used to get the integer, floating-point number, or string\n",
    "version of a value?\n",
    "\n",
    "Ans: Function for integer int()\n",
    "     function for floating point number float()\n",
    "     function for string str()"
   ]
  },
  {
   "cell_type": "code",
   "execution_count": null,
   "id": "2828616d",
   "metadata": {},
   "outputs": [],
   "source": [
    "10. Why does this expression cause an error? How can you fix it?\n",
    "'i have eaten'+ 99 + 'burritos'\n",
    "\n",
    "Ans : Code is containing string and integer data type. Before doing any operation data \n",
    "    should be converted in one data type\n"
   ]
  },
  {
   "cell_type": "code",
   "execution_count": null,
   "id": "5947f8f8",
   "metadata": {},
   "outputs": [],
   "source": []
  },
  {
   "cell_type": "code",
   "execution_count": null,
   "id": "44df0655",
   "metadata": {},
   "outputs": [],
   "source": []
  },
  {
   "cell_type": "code",
   "execution_count": null,
   "id": "5b841061",
   "metadata": {},
   "outputs": [],
   "source": []
  }
 ],
 "metadata": {
  "kernelspec": {
   "display_name": "Python 3 (ipykernel)",
   "language": "python",
   "name": "python3"
  },
  "language_info": {
   "codemirror_mode": {
    "name": "ipython",
    "version": 3
   },
   "file_extension": ".py",
   "mimetype": "text/x-python",
   "name": "python",
   "nbconvert_exporter": "python",
   "pygments_lexer": "ipython3",
   "version": "3.9.12"
  }
 },
 "nbformat": 4,
 "nbformat_minor": 5
}
